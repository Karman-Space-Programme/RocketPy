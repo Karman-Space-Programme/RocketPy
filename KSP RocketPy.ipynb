{
 "cells": [
  {
   "cell_type": "markdown",
   "id": "f393d565",
   "metadata": {},
   "source": [
    "# KSP RocketPy\n",
    "## What is this?\n",
    "A handy notebook for teams to use in running basic rocketpy simulations.\n",
    "\n",
    "Much of it is based on the [rocketpy readme](https://github.com/Projeto-Jupiter/RocketPy#readme), and the [user guide](https://docs.rocketpy.org/en/latest/notebooks/getting_started.html)."
   ]
  },
  {
   "cell_type": "markdown",
   "id": "27873ad8",
   "metadata": {},
   "source": [
    "## Using KSP RocketPy\n",
    "Simply import the module folder and required classes"
   ]
  },
  {
   "cell_type": "code",
   "execution_count": 1,
   "id": "d133d318",
   "metadata": {},
   "outputs": [],
   "source": [
    "from rocketpy import Environment, Rocket, SolidMotor, Flight"
   ]
  },
  {
   "cell_type": "markdown",
   "id": "daa7b442",
   "metadata": {},
   "source": [
    "## Help Text\n",
    "To access the documentation directly, use the inbuilt help python function."
   ]
  },
  {
   "cell_type": "code",
   "execution_count": 2,
   "id": "eb79efee",
   "metadata": {},
   "outputs": [
    {
     "name": "stdout",
     "output_type": "stream",
     "text": [
      "Help on function addFins in module rocketpy.Rocket:\n",
      "\n",
      "addFins(self, n, span, rootChord, tipChord, distanceToCM, radius=0, cantAngle=0, airfoil=None)\n",
      "    Create a fin set, storing its parameters as part of the\n",
      "    aerodynamicSurfaces list. Its parameters are the axial position\n",
      "    along the rocket and its derivative of the coefficient of lift\n",
      "    in respect to angle of attack.\n",
      "    \n",
      "    Parameters\n",
      "    ----------\n",
      "    n : int\n",
      "        Number of fins, from 2 to infinity.\n",
      "    span : int, float\n",
      "        Fin span in meters.\n",
      "    rootChord : int, float\n",
      "        Fin root chord in meters.\n",
      "    tipChord : int, float\n",
      "        Fin tip chord in meters.\n",
      "    distanceToCM : int, float\n",
      "        Fin set position relative to rocket unloaded center of\n",
      "        mass, considering positive direction from center of mass to\n",
      "        nose cone. Consider the center point belonging to the top\n",
      "        of the fins to calculate distance.\n",
      "    radius : int, float, optional\n",
      "        Reference radius to calculate lift coefficient. If 0, which\n",
      "        is default, use rocket radius. Otherwise, enter the radius\n",
      "        of the rocket in the section of the fins, as this impacts\n",
      "        its lift coefficient.\n",
      "    cantAngle : int, float, optional\n",
      "        Fins cant angle with respect to the rocket centerline. Must\n",
      "        be given in degrees.\n",
      "    airfoil : tuple, optional\n",
      "        Default is null, in which case fins will be treated as flat plates.\n",
      "        Otherwise, if tuple, fins will be considered as airfoils. The\n",
      "        tuple's first item specefies the aifoil's lift coefficient\n",
      "        by angle of attack and must be either a .csv, .txt, ndarray\n",
      "        or callable. The .csv and .txt files must contain no headers\n",
      "        and the first column must specify the angle of attack, while\n",
      "        the second column must specify the lift coefficient. The\n",
      "        ndarray should be as [(x0, y0), (x1, y1), (x2, y2), ...]\n",
      "        where x0 is the angle of attack and y0 is the lift coefficient.\n",
      "        If callable, it should take an angle of attack as input and\n",
      "        return the lift coefficient at that angle of attack.\n",
      "        The tuple's second item is the unit of the angle of attack,\n",
      "        accepting either \"radians\" or \"degrees\".\n",
      "    \n",
      "    Returns\n",
      "    -------\n",
      "    cl : Function\n",
      "        Function of the angle of attack (Alpha) and the mach number\n",
      "        (Mach) expressing the fin's lift coefficient. The inputs\n",
      "        are the angle of attack (in radians) and the mach number.\n",
      "        The output is the fin's lift coefficient.\n",
      "    self : Rocket\n",
      "        Object of the Rocket class.\n",
      "\n"
     ]
    }
   ],
   "source": [
    "help(Rocket.addFins)"
   ]
  },
  {
   "cell_type": "markdown",
   "id": "4ac734bd",
   "metadata": {},
   "source": [
    "## Basic Simulation Runthrough"
   ]
  },
  {
   "cell_type": "markdown",
   "id": "474c6996",
   "metadata": {},
   "source": [
    "### Setup an environment for the simulation\n",
    "This includes the date, time, weather data, launch site coordinates and launch rail length. The current pad used is [here](https://goo.gl/maps/2g3hUcQDZmZLK47N6) on the Machrihanish Range."
   ]
  },
  {
   "cell_type": "code",
   "execution_count": 3,
   "id": "63d65fb7",
   "metadata": {},
   "outputs": [
    {
     "name": "stdout",
     "output_type": "stream",
     "text": [
      "http://maps.google.com/maps?q=55.433159,-5.68027\n"
     ]
    }
   ],
   "source": [
    "from datetime import date\n",
    "\n",
    "today = date.today()\n",
    "\n",
    "# The launch coords\n",
    "longitude = -5.680270\n",
    "latitude = 55.433159\n",
    "\n",
    "print(f\"http://maps.google.com/maps?q={latitude},{longitude}\")\n",
    "\n",
    "Env = Environment(\n",
    "    railLength=4,\n",
    "    latitude=latitude,\n",
    "    longitude=longitude,\n",
    "    elevation=40,\n",
    "    date=(today.year, today.month, today.day, 12) # Launch today at 12:00\n",
    ") "
   ]
  },
  {
   "cell_type": "markdown",
   "id": "5b42bbad",
   "metadata": {},
   "source": [
    "We can then create an atmospheric model for use in our flight simulation"
   ]
  },
  {
   "cell_type": "code",
   "execution_count": 4,
   "id": "ec779590",
   "metadata": {
    "scrolled": true
   },
   "outputs": [
    {
     "name": "stdout",
     "output_type": "stream",
     "text": [
      "Launch Site Details\n",
      "\n",
      "Launch Rail Length: 4  m\n",
      "Launch Date: 2022-10-18 12:00:00 UTC\n",
      "Launch Site Latitude: 55.43316°\n",
      "Launch Site Longitude: -5.68027°\n",
      "Reference Datum: SIRGAS2000\n",
      "Launch Site UTM coordinates: 330421.07 W    6146261.83 N\n",
      "Launch Site UTM zone: 30U\n",
      "Launch Site Surface Elevation: 40.0 m\n",
      "\n",
      "\n",
      "Atmospheric Model Details\n",
      "\n",
      "Atmospheric Model Type: CustomAtmosphere\n",
      "CustomAtmosphere Maximum Height: 1.000 km\n",
      "\n",
      "\n",
      "Surface Atmospheric Conditions\n",
      "\n",
      "Surface Wind Speed: 0.00 m/s\n",
      "Surface Wind Direction: 180.00°\n",
      "Surface Wind Heading: 0.00°\n",
      "Surface Pressure: 1008.45 hPa\n",
      "Surface Temperature: 300.00 K\n",
      "Surface Air Density: 1.171 kg/m³\n",
      "Surface Speed of Sound: 347.22 m/s\n",
      "\n",
      "\n",
      "Atmospheric Model Plots\n"
     ]
    },
    {
     "data": {
      "image/png": "[encoded data removed]",
      "text/plain": [
       "<Figure size 900x450 with 4 Axes>"
      ]
     },
     "metadata": {},
     "output_type": "display_data"
    }
   ],
   "source": [
    "Env.setAtmosphericModel(\n",
    "    type=\"CustomAtmosphere\",\n",
    "    pressure=None,\n",
    "    temperature=300,\n",
    "    wind_u=0,\n",
    "    wind_v=0,\n",
    ")\n",
    "Env.info()"
   ]
  },
  {
   "cell_type": "markdown",
   "id": "5e67d6d4",
   "metadata": {},
   "source": [
    "Alternativelt we can also get weather data from the [National Weather Service](https://nomads.ncep.noaa.gov/). Note that if the provided date for the environment is beyond the range of the forecasts, a `ValueError` is produced."
   ]
  },
  {
   "cell_type": "code",
   "execution_count": 5,
   "id": "ab4cc78b",
   "metadata": {},
   "outputs": [
    {
     "name": "stderr",
     "output_type": "stream",
     "text": [
      "Error:curl error: Problem with the SSL CA cert (path? access rights?)\n",
      "curl error details: \n",
      "Warning:oc_open: Could not read url\n",
      "Note:Caching=1\n",
      "Error:curl error: Problem with the SSL CA cert (path? access rights?)\n",
      "curl error details: \n",
      "Warning:oc_open: Could not read url\n",
      "Note:Caching=1\n",
      "Error:curl error: Problem with the SSL CA cert (path? access rights?)\n",
      "curl error details: \n",
      "Warning:oc_open: Could not read url\n",
      "Note:Caching=1\n",
      "Error:curl error: Problem with the SSL CA cert (path? access rights?)\n",
      "curl error details: \n",
      "Warning:oc_open: Could not read url\n",
      "Note:Caching=1\n",
      "Error:curl error: Problem with the SSL CA cert (path? access rights?)\n",
      "curl error details: \n",
      "Warning:oc_open: Could not read url\n",
      "Note:Caching=1\n",
      "Error:curl error: Problem with the SSL CA cert (path? access rights?)\n",
      "curl error details: \n",
      "Warning:oc_open: Could not read url\n",
      "Note:Caching=1\n",
      "Error:curl error: Problem with the SSL CA cert (path? access rights?)\n",
      "curl error details: \n",
      "Warning:oc_open: Could not read url\n",
      "Note:Caching=1\n",
      "Error:curl error: Problem with the SSL CA cert (path? access rights?)\n",
      "curl error details: \n",
      "Warning:oc_open: Could not read url\n",
      "Note:Caching=1\n",
      "Error:curl error: Problem with the SSL CA cert (path? access rights?)\n",
      "curl error details: \n",
      "Warning:oc_open: Could not read url\n",
      "Note:Caching=1\n",
      "Error:curl error: Problem with the SSL CA cert (path? access rights?)\n",
      "curl error details: \n",
      "Warning:oc_open: Could not read url\n"
     ]
    },
    {
     "ename": "RuntimeError",
     "evalue": "Unable to load latest weather data for GFS through https://nomads.ncep.noaa.gov/dods/gfs_0p25/gfs20221007/gfs_0p25_06z",
     "output_type": "error",
     "traceback": [
      "\u001b[0;31m---------------------------------------------------------------------------\u001b[0m",
      "\u001b[0;31mRuntimeError\u001b[0m                              Traceback (most recent call last)",
      "Input \u001b[0;32mIn [5]\u001b[0m, in \u001b[0;36m<cell line: 1>\u001b[0;34m()\u001b[0m\n\u001b[0;32m----> 1\u001b[0m \u001b[43mEnv\u001b[49m\u001b[38;5;241;43m.\u001b[39;49m\u001b[43msetAtmosphericModel\u001b[49m\u001b[43m(\u001b[49m\u001b[38;5;28;43mtype\u001b[39;49m\u001b[38;5;241;43m=\u001b[39;49m\u001b[38;5;124;43m'\u001b[39;49m\u001b[38;5;124;43mForecast\u001b[39;49m\u001b[38;5;124;43m'\u001b[39;49m\u001b[43m,\u001b[49m\u001b[43m \u001b[49m\u001b[43mfile\u001b[49m\u001b[38;5;241;43m=\u001b[39;49m\u001b[38;5;124;43m'\u001b[39;49m\u001b[38;5;124;43mGFS\u001b[39;49m\u001b[38;5;124;43m'\u001b[39;49m\u001b[43m)\u001b[49m\n\u001b[1;32m      2\u001b[0m Env\u001b[38;5;241m.\u001b[39minfo()\n",
      "File \u001b[0;32m~/files/RocketPy/rocketpy/Environment.py:944\u001b[0m, in \u001b[0;36mEnvironment.setAtmosphericModel\u001b[0;34m(self, type, file, dictionary, pressure, temperature, wind_u, wind_v)\u001b[0m\n\u001b[1;32m    942\u001b[0m             attemptCount \u001b[38;5;241m+\u001b[39m\u001b[38;5;241m=\u001b[39m \u001b[38;5;241m1\u001b[39m\n\u001b[1;32m    943\u001b[0m     \u001b[38;5;28;01mif\u001b[39;00m \u001b[38;5;129;01mnot\u001b[39;00m success:\n\u001b[0;32m--> 944\u001b[0m         \u001b[38;5;28;01mraise\u001b[39;00m \u001b[38;5;167;01mRuntimeError\u001b[39;00m(\n\u001b[1;32m    945\u001b[0m             \u001b[38;5;124m\"\u001b[39m\u001b[38;5;124mUnable to load latest weather data for GFS through \u001b[39m\u001b[38;5;124m\"\u001b[39m \u001b[38;5;241m+\u001b[39m file\n\u001b[1;32m    946\u001b[0m         )\n\u001b[1;32m    947\u001b[0m \u001b[38;5;28;01melif\u001b[39;00m file \u001b[38;5;241m==\u001b[39m \u001b[38;5;124m\"\u001b[39m\u001b[38;5;124mFV3\u001b[39m\u001b[38;5;124m\"\u001b[39m:\n\u001b[1;32m    948\u001b[0m     \u001b[38;5;66;03m# Define dictionary\u001b[39;00m\n\u001b[1;32m    949\u001b[0m     dictionary \u001b[38;5;241m=\u001b[39m {\n\u001b[1;32m    950\u001b[0m         \u001b[38;5;124m\"\u001b[39m\u001b[38;5;124mtime\u001b[39m\u001b[38;5;124m\"\u001b[39m: \u001b[38;5;124m\"\u001b[39m\u001b[38;5;124mtime\u001b[39m\u001b[38;5;124m\"\u001b[39m,\n\u001b[1;32m    951\u001b[0m         \u001b[38;5;124m\"\u001b[39m\u001b[38;5;124mlatitude\u001b[39m\u001b[38;5;124m\"\u001b[39m: \u001b[38;5;124m\"\u001b[39m\u001b[38;5;124mlat\u001b[39m\u001b[38;5;124m\"\u001b[39m,\n\u001b[0;32m   (...)\u001b[0m\n\u001b[1;32m    959\u001b[0m         \u001b[38;5;124m\"\u001b[39m\u001b[38;5;124mv_wind\u001b[39m\u001b[38;5;124m\"\u001b[39m: \u001b[38;5;124m\"\u001b[39m\u001b[38;5;124mvgrdprs\u001b[39m\u001b[38;5;124m\"\u001b[39m,\n\u001b[1;32m    960\u001b[0m     }\n",
      "\u001b[0;31mRuntimeError\u001b[0m: Unable to load latest weather data for GFS through https://nomads.ncep.noaa.gov/dods/gfs_0p25/gfs20221007/gfs_0p25_06z"
     ]
    }
   ],
   "source": [
    "Env.setAtmosphericModel(type='Forecast', file='GFS')\n",
    "Env.info()"
   ]
  },
  {
   "cell_type": "markdown",
   "id": "541af7a9",
   "metadata": {},
   "source": [
    "### Setup a rocket motor\n",
    "The motor used is the [Cesaroni M1450](https://www.thrustcurve.org/motors/Cesaroni/9955M1450-P/) as will be present on Nebula."
   ]
  },
  {
   "cell_type": "code",
   "execution_count": null,
   "id": "c08ddcd8",
   "metadata": {},
   "outputs": [],
   "source": [
    "CesaroniM1450 = SolidMotor(\n",
    "    thrustSource=\"data/motors/Cesaroni_9955M1450-P.eng\",\n",
    "    burnOut=6.9,\n",
    "    grainNumber=5,\n",
    "    interpolationMethod='linear'\n",
    ")"
   ]
  },
  {
   "cell_type": "markdown",
   "id": "2405c217",
   "metadata": {},
   "source": [
    "### Setup the rocket itself\n",
    "The parameters for the rocket motor, mass, drag profiles etc. (Note: this is not yet updated from Callisto)\n",
    "\n",
    "#### Components and Centroids:\n",
    "\n",
    "| Component                      | Centroid (m) | Weight (Kg) |\n",
    "|--------------------------------|--------------|-------------|\n",
    "| Nosecone                       | 1.550        | 0.089       |\n",
    "| Deployment System              | 1.535        | 3.000       |\n",
    "| Parachute                      | 1.245        | 0.879       |\n",
    "| Parachute Section Airframe     | 1.255        | 0.100       |\n",
    "| Avionics                       | 0.955        | 1.000       |\n",
    "| Engine (Cesaroni 1450M, Total) | 0.440        | 8.578       |\n",
    "| Engine Propellant              | 0.440        | 4.830       |\n",
    "| Engine Airframe                | 0.43         | 3.600       |\n",
    "| Stringer (x3)                  | 0.67         | 0.650       |\n",
    "| Fins (x4)                      | 0.28         | 1.400       |\n",
    "| Skirt                          | 0.078        | 0.092       |\n",
    "\n",
    "#### Center\n",
    "\n",
    "| State        | Center of Mass (m) | Mass (Kg) |\n",
    "|--------------|--------------------|-----------|\n",
    "| Rocket Full  | 0.774              | 24.888    |\n",
    "| Rocket Empty | 0.871              | 20.058    |"
   ]
  },
  {
   "cell_type": "code",
   "execution_count": null,
   "id": "40836b74",
   "metadata": {},
   "outputs": [],
   "source": [
    "NEBULA_RADIUS = 0.0725\n",
    "NEBULA_TAIL_TAPER_RADIUS = 0.06\n",
    "NEBULA_TAIL_LENGTH = 0.08\n",
    "\n",
    "NEBULA_UNLOADED_CM = 0.871\n",
    "NEBULA_UNLOADED_MASS = 14.558\n",
    "\n",
    "NEBULA_LOADED_CM = 0.774\n",
    "NEBULA_LOADED_MASS = 19.388\n",
    "\n",
    "NOSE_CONE_CM = 1.550\n",
    "NOSE_CONE_LENGTH = 0.435\n",
    "NOSE_CONE_TYPE = \"lvhaack\"\n",
    "\n",
    "NO_FINS = 4\n",
    "FINS_CM = 0.28\n",
    "FINS_MASS = 0.648\n",
    "FIN_ROOT_CHORD = 0.29\n",
    "FIN_TIP_CHORD = 0.080\n",
    "FIN_SPAN = 0.100"
   ]
  },
  {
   "cell_type": "code",
   "execution_count": null,
   "id": "c011bb4c",
   "metadata": {},
   "outputs": [],
   "source": [
    "Nebula = Rocket(\n",
    "    motor=CesaroniM1450,\n",
    "    radius=NEBULA_RADIUS,\n",
    "    mass=NEBULA_UNLOADED_MASS,\n",
    "    inertiaI=4.98,\n",
    "    inertiaZ=0.0766,\n",
    "    distanceRocketNozzle=-NEBULA_UNLOADED_CM,\n",
    "    distanceRocketPropellant=-NEBULA_LOADED_CM,\n",
    "    powerOffDrag='data/nebula/powerOffDragCurve.csv',\n",
    "    powerOnDrag='data/nebula/powerOnDragCurve.csv'\n",
    ")"
   ]
  },
  {
   "cell_type": "markdown",
   "id": "f125106a",
   "metadata": {},
   "source": [
    "We also add rail buttons (small wheels connected to the launch rail to guide the rocket)"
   ]
  },
  {
   "cell_type": "code",
   "execution_count": null,
   "id": "1bf52aa5",
   "metadata": {},
   "outputs": [],
   "source": [
    "Nebula.setRailButtons([0.2, -0.5]) # (PLEASE UPDATE) rail button positions (relatiuve to center of mass)"
   ]
  },
  {
   "cell_type": "markdown",
   "id": "9d20c1f5",
   "metadata": {},
   "source": [
    "A nose cone, providing the distance to the center of mass and type. \n",
    "It is added to the list of aerodynamic surfaces used for simulation."
   ]
  },
  {
   "cell_type": "code",
   "execution_count": null,
   "id": "3cad8b19",
   "metadata": {},
   "outputs": [],
   "source": [
    "NoseCone = Nebula.addNose(length=NOSE_CONE_LENGTH, kind=NOSE_CONE_TYPE, distanceToCM=NOSE_CONE_CM-NEBULA_UNLOADED_CM)"
   ]
  },
  {
   "cell_type": "markdown",
   "id": "f81541d3",
   "metadata": {},
   "source": [
    "Create fins, adding them to the list of aerodynamic surfaces\n",
    "\n",
    "For nebula we have 4 equally spaced fins, of the design"
   ]
  },
  {
   "cell_type": "code",
   "execution_count": null,
   "id": "3705bc2a",
   "metadata": {},
   "outputs": [],
   "source": [
    "FinSet = Nebula.addFins(4, span=FIN_SPAN, rootChord=FIN_ROOT_CHORD, tipChord=FIN_TIP_CHORD, distanceToCM=FINS_CM-NEBULA_UNLOADED_CM)"
   ]
  },
  {
   "cell_type": "markdown",
   "id": "73dbbc22",
   "metadata": {},
   "source": [
    "Add a tail/rocket diameter change"
   ]
  },
  {
   "cell_type": "code",
   "execution_count": null,
   "id": "aa1353a2",
   "metadata": {},
   "outputs": [],
   "source": [
    "Tail = Nebula.addTail(topRadius=NEBULA_RADIUS, bottomRadius=NEBULA_TAIL_TAPER_RADIUS, length=NEBULA_TAIL_LENGTH, distanceToCM=NEBULA_TAIL_LENGTH-NEBULA_UNLOADED_CM)"
   ]
  },
  {
   "cell_type": "code",
   "execution_count": null,
   "id": "38916874",
   "metadata": {
    "scrolled": false
   },
   "outputs": [],
   "source": [
    "Nebula.allInfo()"
   ]
  },
  {
   "cell_type": "markdown",
   "id": "8ee0d147",
   "metadata": {},
   "source": [
    "### Setup Recovery\n",
    "Adding parachutes, including multiple stages"
   ]
  },
  {
   "cell_type": "markdown",
   "id": "9b93f1b4",
   "metadata": {},
   "source": [
    "We can define triggers parachutes, in terms of functions using pressure and the rocket's state vector. For example we can define a trigger for the drogue and main parachute.\n",
    "\n",
    "Pending updates from recovery, no chutes are used in this simulation."
   ]
  },
  {
   "cell_type": "code",
   "execution_count": null,
   "id": "14c3c118",
   "metadata": {},
   "outputs": [],
   "source": [
    "\"\"\"\n",
    "Trigger functions are of type trigger(p,y) -> bool\n",
    "\n",
    "where\n",
    "\n",
    "p: pressure in pascal\n",
    "y: state vector [x, y, z, vx, vy, vz, e0, e1, e2, e3, wx, wy, wz]\n",
    "\"\"\"\n",
    "\n",
    "# Parachute deploy trigger\n",
    "def deployTrigger(p, y):\n",
    "    return False\n",
    "\n",
    "# Parachute reef trigger\n",
    "def disReefTrigger(p, y):\n",
    "#     return y[5] > -50 and y[5] < 0 and y[2] < 100\n",
    "    return False"
   ]
  },
  {
   "cell_type": "markdown",
   "id": "18548f16",
   "metadata": {},
   "source": [
    "We can then use these functions as triggers to add parachutes to the rocket."
   ]
  },
  {
   "cell_type": "code",
   "execution_count": null,
   "id": "0591b9bb",
   "metadata": {},
   "outputs": [],
   "source": [
    "Reefed = Nebula.addParachute('Reefed',\n",
    "                              CdS=1.0, # (PLEASE UPDATE) Drag coefficient times reference area for parachute\n",
    "                              trigger=deployTrigger, \n",
    "                              samplingRate=105,\n",
    "                              lag=1.5, # (PLEASE UPDATE) time taken from start to deployment\n",
    "                              noise=(0, 8.3, 0.5))\n",
    "\n",
    "Main = Nebula.addParachute('Disreefed',\n",
    "                            CdS=10.0, # (PLEASE UPDATE) Drag coefficient times reference area for parachute\n",
    "                            trigger=disReefTrigger, \n",
    "                            samplingRate=105,\n",
    "                            lag=1.5, # (PLEASE UPDATE) time taken to reef\n",
    "                            noise=(0, 8.3, 0.5))"
   ]
  },
  {
   "cell_type": "markdown",
   "id": "0763e105",
   "metadata": {},
   "source": [
    "## Run Simulation\n",
    "Instantiating the `Flight` class runs the simulation, and generates data required for analysis."
   ]
  },
  {
   "cell_type": "code",
   "execution_count": null,
   "id": "197d35d5",
   "metadata": {
    "scrolled": false
   },
   "outputs": [],
   "source": [
    "TestFlight = Flight(rocket=Nebula, environment=Env, inclination=85, heading=0)\n",
    "TestFlight.allInfo()"
   ]
  },
  {
   "cell_type": "code",
   "execution_count": null,
   "id": "3d7db9d3",
   "metadata": {},
   "outputs": [],
   "source": [
    "finallongitude = longitude + TestFlight.xImpact * 0.00001\n",
    "finallatitude = latitude + TestFlight.yImpact * 0.00001\n",
    "\n",
    "print(f\"http://maps.google.com/maps/dir/{finallatitude},{finallongitude}/{latitude},{longitude}\")"
   ]
  },
  {
   "cell_type": "code",
   "execution_count": null,
   "id": "6c121c1d",
   "metadata": {},
   "outputs": [],
   "source": []
  }
 ],
 "metadata": {
  "kernelspec": {
   "display_name": "Python 3 (ipykernel)",
   "language": "python",
   "name": "python3"
  },
  "language_info": {
   "codemirror_mode": {
    "name": "ipython",
    "version": 3
   },
   "file_extension": ".py",
   "mimetype": "text/x-python",
   "name": "python",
   "nbconvert_exporter": "python",
   "pygments_lexer": "ipython3",
   "version": "3.9.12"
  }
 },
 "nbformat": 4,
 "nbformat_minor": 5
}
